{
 "cells": [
  {
   "cell_type": "code",
   "execution_count": 6,
   "metadata": {},
   "outputs": [],
   "source": [
    "import azureml.core\n",
    "azureml.core.VERSION"
   ]
  },
  {
   "cell_type": "markdown",
   "metadata": {},
   "source": [
    "Import the data set to a panda data frame"
   ]
  },
  {
   "cell_type": "code",
   "execution_count": 9,
   "metadata": {},
   "outputs": [
    {
     "output_type": "execute_result",
     "data": {
      "text/plain": "  Date received                                            Product  \\\n0    2019-09-24                                    Debt collection   \n1    2019-09-19  Credit reporting, credit repair services, or o...   \n2    2019-10-25  Credit reporting, credit repair services, or o...   \n3    2019-11-08                                    Debt collection   \n4    2019-02-08                              Vehicle loan or lease   \n\n        Sub-product                                              Issue  \\\n0     I do not know                  Attempts to collect debt not owed   \n1  Credit reporting               Incorrect information on your report   \n2  Credit reporting               Incorrect information on your report   \n3     I do not know                              Communication tactics   \n4             Lease  Problem with a credit reporting company's inve...   \n\n                                           Sub-issue  \\\n0                                  Debt is not yours   \n1                Information belongs to someone else   \n2                Information belongs to someone else   \n3                         Frequent or repeated calls   \n4  Their investigation did not fix an error on yo...   \n\n                        Consumer complaint narrative  \\\n0  transworld systems inc. \\nis trying to collect...   \n1                                                NaN   \n2  I would like to request the suppression of the...   \n3  Over the past 2 weeks, I have been receiving e...   \n4                                                NaN   \n\n                             Company public response  \\\n0                                                NaN   \n1  Company has responded to the consumer and the ...   \n2  Company has responded to the consumer and the ...   \n3                                                NaN   \n4                                                NaN   \n\n                                  Company State ZIP code Tags  \\\n0                  TRANSWORLD SYSTEMS INC    FL    335XX  NaN   \n1     Experian Information Solutions Inc.    PA    15206  NaN   \n2  TRANSUNION INTERMEDIATE HOLDINGS, INC.    CA    937XX  NaN   \n3           Diversified Consultants, Inc.    NC    275XX  NaN   \n4                 HYUNDAI CAPITAL AMERICA    FL    33161  NaN   \n\n  Consumer consent provided? Submitted via Date sent to company  \\\n0           Consent provided           Web           2019-09-24   \n1       Consent not provided           Web           2019-09-20   \n2           Consent provided           Web           2019-10-25   \n3           Consent provided           Web           2019-11-08   \n4       Consent not provided           Web           2019-02-08   \n\n      Company response to consumer Timely response? Consumer disputed?  \\\n0          Closed with explanation              Yes                NaN   \n1  Closed with non-monetary relief              Yes                NaN   \n2          Closed with explanation              Yes                NaN   \n3          Closed with explanation              Yes                NaN   \n4  Closed with non-monetary relief              Yes                NaN   \n\n   Complaint ID  \n0       3384392  \n1       3379500  \n2       3417821  \n3       3433198  \n4       3146310  ",
      "text/html": "<div>\n<style scoped>\n    .dataframe tbody tr th:only-of-type {\n        vertical-align: middle;\n    }\n\n    .dataframe tbody tr th {\n        vertical-align: top;\n    }\n\n    .dataframe thead th {\n        text-align: right;\n    }\n</style>\n<table border=\"1\" class=\"dataframe\">\n  <thead>\n    <tr style=\"text-align: right;\">\n      <th></th>\n      <th>Date received</th>\n      <th>Product</th>\n      <th>Sub-product</th>\n      <th>Issue</th>\n      <th>Sub-issue</th>\n      <th>Consumer complaint narrative</th>\n      <th>Company public response</th>\n      <th>Company</th>\n      <th>State</th>\n      <th>ZIP code</th>\n      <th>Tags</th>\n      <th>Consumer consent provided?</th>\n      <th>Submitted via</th>\n      <th>Date sent to company</th>\n      <th>Company response to consumer</th>\n      <th>Timely response?</th>\n      <th>Consumer disputed?</th>\n      <th>Complaint ID</th>\n    </tr>\n  </thead>\n  <tbody>\n    <tr>\n      <th>0</th>\n      <td>2019-09-24</td>\n      <td>Debt collection</td>\n      <td>I do not know</td>\n      <td>Attempts to collect debt not owed</td>\n      <td>Debt is not yours</td>\n      <td>transworld systems inc. \\nis trying to collect...</td>\n      <td>NaN</td>\n      <td>TRANSWORLD SYSTEMS INC</td>\n      <td>FL</td>\n      <td>335XX</td>\n      <td>NaN</td>\n      <td>Consent provided</td>\n      <td>Web</td>\n      <td>2019-09-24</td>\n      <td>Closed with explanation</td>\n      <td>Yes</td>\n      <td>NaN</td>\n      <td>3384392</td>\n    </tr>\n    <tr>\n      <th>1</th>\n      <td>2019-09-19</td>\n      <td>Credit reporting, credit repair services, or o...</td>\n      <td>Credit reporting</td>\n      <td>Incorrect information on your report</td>\n      <td>Information belongs to someone else</td>\n      <td>NaN</td>\n      <td>Company has responded to the consumer and the ...</td>\n      <td>Experian Information Solutions Inc.</td>\n      <td>PA</td>\n      <td>15206</td>\n      <td>NaN</td>\n      <td>Consent not provided</td>\n      <td>Web</td>\n      <td>2019-09-20</td>\n      <td>Closed with non-monetary relief</td>\n      <td>Yes</td>\n      <td>NaN</td>\n      <td>3379500</td>\n    </tr>\n    <tr>\n      <th>2</th>\n      <td>2019-10-25</td>\n      <td>Credit reporting, credit repair services, or o...</td>\n      <td>Credit reporting</td>\n      <td>Incorrect information on your report</td>\n      <td>Information belongs to someone else</td>\n      <td>I would like to request the suppression of the...</td>\n      <td>Company has responded to the consumer and the ...</td>\n      <td>TRANSUNION INTERMEDIATE HOLDINGS, INC.</td>\n      <td>CA</td>\n      <td>937XX</td>\n      <td>NaN</td>\n      <td>Consent provided</td>\n      <td>Web</td>\n      <td>2019-10-25</td>\n      <td>Closed with explanation</td>\n      <td>Yes</td>\n      <td>NaN</td>\n      <td>3417821</td>\n    </tr>\n    <tr>\n      <th>3</th>\n      <td>2019-11-08</td>\n      <td>Debt collection</td>\n      <td>I do not know</td>\n      <td>Communication tactics</td>\n      <td>Frequent or repeated calls</td>\n      <td>Over the past 2 weeks, I have been receiving e...</td>\n      <td>NaN</td>\n      <td>Diversified Consultants, Inc.</td>\n      <td>NC</td>\n      <td>275XX</td>\n      <td>NaN</td>\n      <td>Consent provided</td>\n      <td>Web</td>\n      <td>2019-11-08</td>\n      <td>Closed with explanation</td>\n      <td>Yes</td>\n      <td>NaN</td>\n      <td>3433198</td>\n    </tr>\n    <tr>\n      <th>4</th>\n      <td>2019-02-08</td>\n      <td>Vehicle loan or lease</td>\n      <td>Lease</td>\n      <td>Problem with a credit reporting company's inve...</td>\n      <td>Their investigation did not fix an error on yo...</td>\n      <td>NaN</td>\n      <td>NaN</td>\n      <td>HYUNDAI CAPITAL AMERICA</td>\n      <td>FL</td>\n      <td>33161</td>\n      <td>NaN</td>\n      <td>Consent not provided</td>\n      <td>Web</td>\n      <td>2019-02-08</td>\n      <td>Closed with non-monetary relief</td>\n      <td>Yes</td>\n      <td>NaN</td>\n      <td>3146310</td>\n    </tr>\n  </tbody>\n</table>\n</div>"
     },
     "metadata": {},
     "execution_count": 9
    }
   ],
   "source": [
    "import pandas as pd\n",
    "\n",
    "df1 = pd.read_csv('./data/complaints.csv')\n",
    "df1.head()"
   ]
  },
  {
   "cell_type": "markdown",
   "metadata": {},
   "source": [
    "For our implementation, we use only the Consumer complaint narrative column, which we rename to Complaint and contains the textual information from the consumer complaints, and the Product column, which represents the financial products or services associated with a complaint"
   ]
  },
  {
   "cell_type": "code",
   "execution_count": 10,
   "metadata": {},
   "outputs": [
    {
     "output_type": "execute_result",
     "data": {
      "text/plain": "                                             Product  \\\n0                                    Debt collection   \n1  Credit reporting, credit repair services, or o...   \n2  Credit reporting, credit repair services, or o...   \n3                                    Debt collection   \n4                              Vehicle loan or lease   \n\n                                           Complaint  \n0  transworld systems inc. \\nis trying to collect...  \n1                                                NaN  \n2  I would like to request the suppression of the...  \n3  Over the past 2 weeks, I have been receiving e...  \n4                                                NaN  ",
      "text/html": "<div>\n<style scoped>\n    .dataframe tbody tr th:only-of-type {\n        vertical-align: middle;\n    }\n\n    .dataframe tbody tr th {\n        vertical-align: top;\n    }\n\n    .dataframe thead th {\n        text-align: right;\n    }\n</style>\n<table border=\"1\" class=\"dataframe\">\n  <thead>\n    <tr style=\"text-align: right;\">\n      <th></th>\n      <th>Product</th>\n      <th>Complaint</th>\n    </tr>\n  </thead>\n  <tbody>\n    <tr>\n      <th>0</th>\n      <td>Debt collection</td>\n      <td>transworld systems inc. \\nis trying to collect...</td>\n    </tr>\n    <tr>\n      <th>1</th>\n      <td>Credit reporting, credit repair services, or o...</td>\n      <td>NaN</td>\n    </tr>\n    <tr>\n      <th>2</th>\n      <td>Credit reporting, credit repair services, or o...</td>\n      <td>I would like to request the suppression of the...</td>\n    </tr>\n    <tr>\n      <th>3</th>\n      <td>Debt collection</td>\n      <td>Over the past 2 weeks, I have been receiving e...</td>\n    </tr>\n    <tr>\n      <th>4</th>\n      <td>Vehicle loan or lease</td>\n      <td>NaN</td>\n    </tr>\n  </tbody>\n</table>\n</div>"
     },
     "metadata": {},
     "execution_count": 10
    }
   ],
   "source": [
    "df2 = df1[['Product', 'Consumer complaint narrative']]\n",
    "df2.columns = ['Product', \"Complaint\"]\n",
    "df2.head()"
   ]
  },
  {
   "cell_type": "markdown",
   "metadata": {},
   "source": [
    "The dataset has approximately 1.4M rows, but a great portion of them has missing data in the Complaint column. Here we just drop all rows with missing data, and we end up with 472K rows"
   ]
  },
  {
   "cell_type": "code",
   "execution_count": 11,
   "metadata": {},
   "outputs": [
    {
     "output_type": "execute_result",
     "data": {
      "text/plain": "(1586980, 2)"
     },
     "metadata": {},
     "execution_count": 11
    }
   ],
   "source": [
    "df2.shape"
   ]
  },
  {
   "cell_type": "code",
   "execution_count": 13,
   "metadata": {},
   "outputs": [],
   "source": [
    "df2.dropna(inplace=True)"
   ]
  },
  {
   "cell_type": "code",
   "execution_count": 14,
   "metadata": {},
   "outputs": [
    {
     "output_type": "execute_result",
     "data": {
      "text/plain": "(525657, 2)"
     },
     "metadata": {},
     "execution_count": 14
    }
   ],
   "source": [
    "df2.shape"
   ]
  },
  {
   "cell_type": "markdown",
   "metadata": {},
   "source": [
    "There are 18 distinct values for the Product column, but some of them are very underrepresented. Also, there is a lot of overlapping among them.\n",
    "\n",
    "We then consolidate the distinct values for the Product column into 6 distinct categories: Credit Reporting, Debt Collection, Mortgage, Card Services, Loans, and Banking Services."
   ]
  },
  {
   "cell_type": "code",
   "execution_count": 15,
   "metadata": {},
   "outputs": [
    {
     "output_type": "execute_result",
     "data": {
      "text/plain": "Credit reporting, credit repair services, or other personal consumer reports    161981\nDebt collection                                                                 112676\nMortgage                                                                         64275\nCredit card or prepaid card                                                      35664\nCredit reporting                                                                 31588\nStudent loan                                                                     25917\nChecking or savings account                                                      20957\nCredit card                                                                      18838\nBank account or service                                                          14885\nConsumer Loan                                                                     9473\nVehicle loan or lease                                                             8882\nMoney transfer, virtual currency, or money service                                8509\nPayday loan, title loan, or personal loan                                         7011\nPayday loan                                                                       1746\nMoney transfers                                                                   1497\nPrepaid card                                                                      1450\nOther financial service                                                            292\nVirtual currency                                                                    16\nName: Product, dtype: int64"
     },
     "metadata": {},
     "execution_count": 15
    }
   ],
   "source": [
    "df2['Product'].value_counts()"
   ]
  },
  {
   "cell_type": "code",
   "execution_count": 16,
   "metadata": {},
   "outputs": [],
   "source": [
    "df2.replace({'Product':\n",
    "             {'Credit reporting, credit repair services, or other personal consumer reports': 'Credit Reporting',\n",
    "              'Debt collection': 'Debt Collection',\n",
    "              'Credit reporting': 'Credit Reporting',\n",
    "              'Credit card': 'Card Services',\n",
    "              'Bank account or service': 'Banking Services',\n",
    "              'Credit card or prepaid card': 'Card Services',\n",
    "              'Student loan': 'Loans',\n",
    "              'Checking or savings account': 'Banking Services',\n",
    "              'Consumer Loan': 'Loans',\n",
    "              'Vehicle loan or lease': 'Loans',\n",
    "              'Money transfer, virtual currency, or money service': 'Banking Services',\n",
    "              'Payday loan, title loan, or personal loan': 'Loans',\n",
    "              'Payday loan': 'Loans',\n",
    "              'Money transfers': 'Banking Services',\n",
    "              'Prepaid card': 'Card Services',\n",
    "              'Other financial service': 'Other',\n",
    "              'Virtual currency': 'Banking Services'}\n",
    "            }, inplace= True)"
   ]
  },
  {
   "cell_type": "code",
   "execution_count": 17,
   "metadata": {},
   "outputs": [
    {
     "output_type": "execute_result",
     "data": {
      "text/plain": "                  Product\nCredit Reporting   193569\nDebt Collection    112676\nMortgage            64275\nCard Services       55952\nLoans               53029\nBanking Services    45864",
      "text/html": "<div>\n<style scoped>\n    .dataframe tbody tr th:only-of-type {\n        vertical-align: middle;\n    }\n\n    .dataframe tbody tr th {\n        vertical-align: top;\n    }\n\n    .dataframe thead th {\n        text-align: right;\n    }\n</style>\n<table border=\"1\" class=\"dataframe\">\n  <thead>\n    <tr style=\"text-align: right;\">\n      <th></th>\n      <th>Product</th>\n    </tr>\n  </thead>\n  <tbody>\n    <tr>\n      <th>Credit Reporting</th>\n      <td>193569</td>\n    </tr>\n    <tr>\n      <th>Debt Collection</th>\n      <td>112676</td>\n    </tr>\n    <tr>\n      <th>Mortgage</th>\n      <td>64275</td>\n    </tr>\n    <tr>\n      <th>Card Services</th>\n      <td>55952</td>\n    </tr>\n    <tr>\n      <th>Loans</th>\n      <td>53029</td>\n    </tr>\n    <tr>\n      <th>Banking Services</th>\n      <td>45864</td>\n    </tr>\n  </tbody>\n</table>\n</div>"
     },
     "metadata": {},
     "execution_count": 17
    }
   ],
   "source": [
    "df2 = df2[df2['Product'] != 'Other']\n",
    "pd.DataFrame(df2['Product'].value_counts())"
   ]
  },
  {
   "cell_type": "markdown",
   "metadata": {},
   "source": [
    "We need to represent data as numeric values for the model. Here we create a new column Product_Label that encodes the information from the Product column into numeric values.\n",
    "\n",
    "We need to do something similar for the textual information from the Complaint column, but as this is dependent of the model architecture, this is done in the subsequent notebook."
   ]
  },
  {
   "cell_type": "code",
   "execution_count": 18,
   "metadata": {},
   "outputs": [],
   "source": [
    "from sklearn.preprocessing import LabelEncoder\n",
    "\n",
    "enc = LabelEncoder()\n",
    "df2['Product_Label'] = enc.fit_transform(df2['Product'])"
   ]
  },
  {
   "cell_type": "code",
   "execution_count": 19,
   "metadata": {},
   "outputs": [
    {
     "output_type": "execute_result",
     "data": {
      "text/plain": "             Product                                          Complaint  \\\n0    Debt Collection  transworld systems inc. \\nis trying to collect...   \n2   Credit Reporting  I would like to request the suppression of the...   \n3    Debt Collection  Over the past 2 weeks, I have been receiving e...   \n11  Banking Services  I was sold access to an event digitally, of wh...   \n12   Debt Collection  While checking my credit report I noticed thre...   \n\n    Product_Label  \n0               3  \n2               2  \n3               3  \n11              0  \n12              3  ",
      "text/html": "<div>\n<style scoped>\n    .dataframe tbody tr th:only-of-type {\n        vertical-align: middle;\n    }\n\n    .dataframe tbody tr th {\n        vertical-align: top;\n    }\n\n    .dataframe thead th {\n        text-align: right;\n    }\n</style>\n<table border=\"1\" class=\"dataframe\">\n  <thead>\n    <tr style=\"text-align: right;\">\n      <th></th>\n      <th>Product</th>\n      <th>Complaint</th>\n      <th>Product_Label</th>\n    </tr>\n  </thead>\n  <tbody>\n    <tr>\n      <th>0</th>\n      <td>Debt Collection</td>\n      <td>transworld systems inc. \\nis trying to collect...</td>\n      <td>3</td>\n    </tr>\n    <tr>\n      <th>2</th>\n      <td>Credit Reporting</td>\n      <td>I would like to request the suppression of the...</td>\n      <td>2</td>\n    </tr>\n    <tr>\n      <th>3</th>\n      <td>Debt Collection</td>\n      <td>Over the past 2 weeks, I have been receiving e...</td>\n      <td>3</td>\n    </tr>\n    <tr>\n      <th>11</th>\n      <td>Banking Services</td>\n      <td>I was sold access to an event digitally, of wh...</td>\n      <td>0</td>\n    </tr>\n    <tr>\n      <th>12</th>\n      <td>Debt Collection</td>\n      <td>While checking my credit report I noticed thre...</td>\n      <td>3</td>\n    </tr>\n  </tbody>\n</table>\n</div>"
     },
     "metadata": {},
     "execution_count": 19
    }
   ],
   "source": [
    "df2.head()"
   ]
  },
  {
   "cell_type": "code",
   "execution_count": 20,
   "metadata": {},
   "outputs": [
    {
     "output_type": "execute_result",
     "data": {
      "text/plain": "'While checking my credit report I noticed three collections by a company called ARS that i was unfamiliar with. I disputed these collections with XXXX, and XXXX and they both replied that they contacted the creditor and the creditor verified the debt so I asked for proof which both bureaus replied that they are not required to prove anything. I then mailed a certified letter to ARS requesting proof of the debts n the form of an original aggrement, or a proof of a right to the debt, or even so much as the process as to how the bill was calculated, to which I was simply replied a letter for each collection claim that listed my name an account number and an amount with no other information to verify the debts after I sent a clear notice to provide me evidence. Afterwards I recontacted both XXXX, and XXXX, to redispute on the premise that it is not my debt if evidence can not be drawn up, I feel as if I am being personally victimized by ARS on my credit report for debts that are not owed to them or any party for that matter, and I feel discouraged that the credit bureaus who control many aspects of my personal finances are so negligent about my information.'"
     },
     "metadata": {},
     "execution_count": 20
    }
   ],
   "source": [
    "df2.iloc[4]['Complaint']"
   ]
  },
  {
   "cell_type": "markdown",
   "metadata": {},
   "source": [
    "We can further preprocess the data, by trying to decrease the vocabulary size for the text. Here we perform a light text preprocessing, by removing punctuation, removing the masked information (XXX… patterns), removing extra spaces and finally normalize everything to lowercase."
   ]
  },
  {
   "cell_type": "code",
   "execution_count": 21,
   "metadata": {},
   "outputs": [],
   "source": [
    "import string\n",
    "\n",
    "table = str.maketrans(string.punctuation, ' '*len(string.punctuation))\n",
    "df2['Complaint'] = df2['Complaint'].str.translate(table)\n",
    "df2['Complaint'] = df2['Complaint'].str.replace('X+', '')\n",
    "df2['Complaint'] = df2['Complaint'].str.replace(' +', ' ')\n",
    "df2['Complaint'] = df2['Complaint'].str.lower()\n",
    "df2['Complaint'] = df2['Complaint'].str.strip()"
   ]
  },
  {
   "cell_type": "code",
   "execution_count": 24,
   "metadata": {},
   "outputs": [
    {
     "output_type": "execute_result",
     "data": {
      "text/plain": "'while checking my credit report i noticed three collections by a company called ars that i was unfamiliar with i disputed these collections with and and they both replied that they contacted the creditor and the creditor verified the debt so i asked for proof which both bureaus replied that they are not required to prove anything i then mailed a certified letter to ars requesting proof of the debts n the form of an original aggrement or a proof of a right to the debt or even so much as the process as to how the bill was calculated to which i was simply replied a letter for each collection claim that listed my name an account number and an amount with no other information to verify the debts after i sent a clear notice to provide me evidence afterwards i recontacted both and to redispute on the premise that it is not my debt if evidence can not be drawn up i feel as if i am being personally victimized by ars on my credit report for debts that are not owed to them or any party for that matter and i feel discouraged that the credit bureaus who control many aspects of my personal finances are so negligent about my information'"
     },
     "metadata": {},
     "execution_count": 24
    }
   ],
   "source": [
    "df2.iloc[4]['Complaint']"
   ]
  },
  {
   "cell_type": "markdown",
   "metadata": {},
   "source": [
    "There is some text in the Complaint column that has 0 or very few words, which represents about 1,000 rows in the dataset. Here we consider the minimum of 5 words for the text to have some useful information."
   ]
  },
  {
   "cell_type": "code",
   "execution_count": 25,
   "metadata": {},
   "outputs": [
    {
     "output_type": "stream",
     "name": "stdout",
     "text": "5958\n0\n"
    }
   ],
   "source": [
    "lengths = [len(df2.iloc[i]['Complaint'].split()) for i in range(len(df2))]\n",
    "print(max(lengths))\n",
    "print(min(lengths))"
   ]
  },
  {
   "cell_type": "code",
   "execution_count": 26,
   "metadata": {},
   "outputs": [
    {
     "output_type": "execute_result",
     "data": {
      "text/plain": "(524427, 3)"
     },
     "metadata": {},
     "execution_count": 26
    }
   ],
   "source": [
    "df2 = df2[[l >= 5 for l in lengths]]\n",
    "df2.shape"
   ]
  },
  {
   "cell_type": "code",
   "execution_count": 27,
   "metadata": {},
   "outputs": [
    {
     "output_type": "execute_result",
     "data": {
      "text/plain": "                  Product\nCredit Reporting   192899\nDebt Collection    112495\nMortgage            64256\nCard Services       55925\nLoans               53003\nBanking Services    45849",
      "text/html": "<div>\n<style scoped>\n    .dataframe tbody tr th:only-of-type {\n        vertical-align: middle;\n    }\n\n    .dataframe tbody tr th {\n        vertical-align: top;\n    }\n\n    .dataframe thead th {\n        text-align: right;\n    }\n</style>\n<table border=\"1\" class=\"dataframe\">\n  <thead>\n    <tr style=\"text-align: right;\">\n      <th></th>\n      <th>Product</th>\n    </tr>\n  </thead>\n  <tbody>\n    <tr>\n      <th>Credit Reporting</th>\n      <td>192899</td>\n    </tr>\n    <tr>\n      <th>Debt Collection</th>\n      <td>112495</td>\n    </tr>\n    <tr>\n      <th>Mortgage</th>\n      <td>64256</td>\n    </tr>\n    <tr>\n      <th>Card Services</th>\n      <td>55925</td>\n    </tr>\n    <tr>\n      <th>Loans</th>\n      <td>53003</td>\n    </tr>\n    <tr>\n      <th>Banking Services</th>\n      <td>45849</td>\n    </tr>\n  </tbody>\n</table>\n</div>"
     },
     "metadata": {},
     "execution_count": 27
    }
   ],
   "source": [
    "pd.DataFrame(df2['Product'].value_counts())"
   ]
  },
  {
   "cell_type": "markdown",
   "metadata": {},
   "source": [
    "We then save the preprocessed dataset, and another one corresponding to a 10% sample."
   ]
  },
  {
   "cell_type": "code",
   "execution_count": 28,
   "metadata": {},
   "outputs": [],
   "source": [
    "df2.to_csv('./data/consumer_complaint_data_prepared.csv', index=False)"
   ]
  },
  {
   "cell_type": "code",
   "execution_count": 29,
   "metadata": {},
   "outputs": [],
   "source": [
    "df2.sample(n=int(len(df2)*0.1), random_state=111).to_csv('./data/consumer_complaint_data_sample_prepared.csv', index=False)"
   ]
  }
 ],
 "metadata": {
  "language_info": {
   "codemirror_mode": {
    "name": "ipython",
    "version": 3
   },
   "file_extension": ".py",
   "mimetype": "text/x-python",
   "name": "python",
   "nbconvert_exporter": "python",
   "pygments_lexer": "ipython3",
   "version": 3
  },
  "orig_nbformat": 2,
  "kernelspec": {
   "name": "mailbot-demo-01",
   "display_name": "Python (mailbot-demo-01)"
  }
 },
 "nbformat": 4,
 "nbformat_minor": 2
}